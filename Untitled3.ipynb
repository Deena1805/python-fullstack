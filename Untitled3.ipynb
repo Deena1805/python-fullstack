{
  "nbformat": 4,
  "nbformat_minor": 0,
  "metadata": {
    "colab": {
      "provenance": []
    },
    "kernelspec": {
      "name": "python3",
      "display_name": "Python 3"
    },
    "language_info": {
      "name": "python"
    }
  },
  "cells": [
    {
      "cell_type": "code",
      "execution_count": null,
      "metadata": {
        "colab": {
          "base_uri": "https://localhost:8080/"
        },
        "id": "WHr6KlV-eEjm",
        "outputId": "42d72a5e-b7c6-4f02-d2ba-43a00798f104"
      },
      "outputs": [
        {
          "output_type": "stream",
          "name": "stdout",
          "text": [
            "5\n",
            "John\n"
          ]
        }
      ],
      "source": [
        "x = 5\n",
        "y=\"John\"\n",
        "print(x)\n",
        "print(y)"
      ]
    },
    {
      "cell_type": "code",
      "source": [],
      "metadata": {
        "id": "0LFd7fA0fF-d"
      },
      "execution_count": null,
      "outputs": []
    },
    {
      "cell_type": "code",
      "source": [
        "x = 4\n",
        "x=\"Sally\"\n",
        "x = 8\n",
        "print(x)\n"
      ],
      "metadata": {
        "colab": {
          "base_uri": "https://localhost:8080/"
        },
        "id": "40E9_90eeSeP",
        "outputId": "f30ab31e-0d02-4433-c052-eaf0dfa21d92"
      },
      "execution_count": null,
      "outputs": [
        {
          "output_type": "stream",
          "name": "stdout",
          "text": [
            "8\n"
          ]
        }
      ]
    },
    {
      "cell_type": "code",
      "source": [
        "x = str(3)\n",
        "y=int(3)\n",
        "z=float(3)\n",
        "print(x)\n",
        "print(y)\n",
        "print(z)"
      ],
      "metadata": {
        "id": "0blUVgJjeeuQ",
        "outputId": "8e9e9413-062e-425e-fca8-7ad22974852b",
        "colab": {
          "base_uri": "https://localhost:8080/"
        }
      },
      "execution_count": null,
      "outputs": [
        {
          "output_type": "stream",
          "name": "stdout",
          "text": [
            "3\n",
            "3\n",
            "3.0\n"
          ]
        }
      ]
    },
    {
      "cell_type": "code",
      "source": [
        "x=1\n",
        "y=35656222554887711\n",
        "z=-3255522\n",
        "print(type(x))\n",
        "print(type(y))\n",
        "print(type(z))"
      ],
      "metadata": {
        "colab": {
          "base_uri": "https://localhost:8080/"
        },
        "id": "eWVLFD_kfH3Z",
        "outputId": "bd439d7e-f667-4bf3-9166-d2f3bbfd1c95"
      },
      "execution_count": 4,
      "outputs": [
        {
          "output_type": "stream",
          "name": "stdout",
          "text": [
            "<class 'int'>\n",
            "<class 'int'>\n",
            "<class 'int'>\n"
          ]
        }
      ]
    },
    {
      "cell_type": "code",
      "source": [
        "txt=\"The best things in life are free!\"\n",
        "if\"free\"in txt:\n",
        "  print(\"Yes,'free'is present\")"
      ],
      "metadata": {
        "colab": {
          "base_uri": "https://localhost:8080/"
        },
        "id": "SV9IXPTYfT-R",
        "outputId": "0904aa55-1c6e-46a3-c3b4-7726f16fe7a8"
      },
      "execution_count": 5,
      "outputs": [
        {
          "output_type": "stream",
          "name": "stdout",
          "text": [
            "Yes,'free'is present\n"
          ]
        }
      ]
    },
    {
      "cell_type": "code",
      "source": [
        "b=\"Hello, World!\"\n",
        "print(b[2:5])"
      ],
      "metadata": {
        "colab": {
          "base_uri": "https://localhost:8080/"
        },
        "id": "3iw8H-P9fiYb",
        "outputId": "583fdc38-9df5-4035-e7b7-280b0d69a99e"
      },
      "execution_count": 6,
      "outputs": [
        {
          "output_type": "stream",
          "name": "stdout",
          "text": [
            "llo\n"
          ]
        }
      ]
    },
    {
      "cell_type": "code",
      "source": [
        "a=b=\"Hello, World!\"\n",
        "print(b[:5])\n",
        "print(b[2:])\n",
        "print(b[-5:-2])\n",
        "print(a.upper())\n",
        "print(a.lower())"
      ],
      "metadata": {
        "colab": {
          "base_uri": "https://localhost:8080/"
        },
        "id": "8JqOZWZsfz7q",
        "outputId": "b3266053-b810-4887-c54f-f09b8cbdee7f"
      },
      "execution_count": 7,
      "outputs": [
        {
          "output_type": "stream",
          "name": "stdout",
          "text": [
            "Hello\n",
            "llo, World!\n",
            "orl\n",
            "HELLO, WORLD!\n",
            "hello, world!\n"
          ]
        }
      ]
    },
    {
      "cell_type": "code",
      "source": [
        "list1=[\"apple\",\"banana\",\"cherry\"]\n",
        "list2=[1,5,7,9,3]\n",
        "list3=[True,False,False]\n",
        "print(list1)\n",
        "print(list2)\n",
        "print(list3)"
      ],
      "metadata": {
        "colab": {
          "base_uri": "https://localhost:8080/"
        },
        "id": "9Vmc6VbngI2Y",
        "outputId": "d2cd0b5e-5fe6-45a3-b8a6-b22dcac31d02"
      },
      "execution_count": 8,
      "outputs": [
        {
          "output_type": "stream",
          "name": "stdout",
          "text": [
            "['apple', 'banana', 'cherry']\n",
            "[1, 5, 7, 9, 3]\n",
            "[True, False, False]\n"
          ]
        }
      ]
    },
    {
      "cell_type": "code",
      "source": [
        "class Person:\n",
        "  def __init__(self,name,age):\n",
        "    self.name=name\n",
        "    self.age=age\n",
        "p1=Person(\"John\",36)\n",
        "print(p1.name)\n",
        "print(p1.age)"
      ],
      "metadata": {
        "colab": {
          "base_uri": "https://localhost:8080/"
        },
        "id": "nX0CktqVgqQD",
        "outputId": "cef65538-970e-42c7-eb8e-361d2ba09051"
      },
      "execution_count": 9,
      "outputs": [
        {
          "output_type": "stream",
          "name": "stdout",
          "text": [
            "John\n",
            "36\n"
          ]
        }
      ]
    },
    {
      "cell_type": "code",
      "source": [
        "name=input(\"Enter your name:\")\n",
        "print(f\" hello{name}\")"
      ],
      "metadata": {
        "id": "5hPwLnuHg9Xj"
      },
      "execution_count": null,
      "outputs": []
    }
  ]
}